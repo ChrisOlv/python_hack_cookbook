{
 "cells": [
  {
   "cell_type": "code",
   "execution_count": null,
   "metadata": {},
   "outputs": [
    {
     "name": "stdout",
     "output_type": "stream",
     "text": [
      "CSV file COUCOU.csv has been converted to Excel file csv_to_excel_output/coucou.xlsx.\n"
     ]
    }
   ],
   "source": [
    "import pandas as pd\n",
    "\n",
    "def csv_to_excel(csv_file_path, excel_file_path, encoding='utf-8'):\n",
    "    # Lire les données du fichier CSV\n",
    "    df = pd.read_csv(csv_file_path, delimiter=\",\", encoding=encoding)\n",
    "\n",
    "    # Écrire les données dans un fichier Excel\n",
    "    df.to_excel(excel_file_path, index=False)\n",
    "\n",
    "if __name__ == \"__main__\":\n",
    "    # Chemin du fichier CSV d'entrée\n",
    "    input_csv = 'COUCOU.csv'\n",
    "\n",
    "    # Chemin du fichier Excel de sortie\n",
    "    output_excel = 'csv_to_excel_output/coucou.xlsx'\n",
    "\n",
    "    # Conversion du fichier CSV en fichier Excel\n",
    "    csv_to_excel(input_csv, output_excel)\n",
    "    print(f'CSV file {input_csv} has been converted to Excel file {output_excel}.')"
   ]
  }
 ],
 "metadata": {
  "kernelspec": {
   "display_name": ".venv",
   "language": "python",
   "name": "python3"
  },
  "language_info": {
   "codemirror_mode": {
    "name": "ipython",
    "version": 3
   },
   "file_extension": ".py",
   "mimetype": "text/x-python",
   "name": "python",
   "nbconvert_exporter": "python",
   "pygments_lexer": "ipython3",
   "version": "3.12.7"
  }
 },
 "nbformat": 4,
 "nbformat_minor": 2
}
