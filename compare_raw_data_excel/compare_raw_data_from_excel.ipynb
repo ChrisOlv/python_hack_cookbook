{
 "cells": [
  {
   "cell_type": "markdown",
   "metadata": {},
   "source": [
    "Import two Excel columns from extracts containing special characters and spaces.\n",
    "\n",
    "Quickly clean the columns and compare them to ensure they are identical."
   ]
  },
  {
   "cell_type": "code",
   "execution_count": 1,
   "metadata": {},
   "outputs": [],
   "source": [
    "import pandas as pd\n",
    "import seaborn as sns\n",
    "import matplotlib.pyplot as plt"
   ]
  },
  {
   "cell_type": "code",
   "execution_count": 2,
   "metadata": {},
   "outputs": [
    {
     "data": {
      "text/html": [
       "<div>\n",
       "<style scoped>\n",
       "    .dataframe tbody tr th:only-of-type {\n",
       "        vertical-align: middle;\n",
       "    }\n",
       "\n",
       "    .dataframe tbody tr th {\n",
       "        vertical-align: top;\n",
       "    }\n",
       "\n",
       "    .dataframe thead th {\n",
       "        text-align: right;\n",
       "    }\n",
       "</style>\n",
       "<table border=\"1\" class=\"dataframe\">\n",
       "  <thead>\n",
       "    <tr style=\"text-align: right;\">\n",
       "      <th></th>\n",
       "      <th>col1</th>\n",
       "      <th>col2</th>\n",
       "    </tr>\n",
       "  </thead>\n",
       "  <tbody>\n",
       "    <tr>\n",
       "      <th>0</th>\n",
       "      <td>93000</td>\n",
       "      <td>93 000,00</td>\n",
       "    </tr>\n",
       "    <tr>\n",
       "      <th>1</th>\n",
       "      <td>9 652,5</td>\n",
       "      <td>9 652,5</td>\n",
       "    </tr>\n",
       "    <tr>\n",
       "      <th>2</th>\n",
       "      <td>9 120</td>\n",
       "      <td>9 120,00</td>\n",
       "    </tr>\n",
       "    <tr>\n",
       "      <th>3</th>\n",
       "      <td>9 100</td>\n",
       "      <td>9 100,00</td>\n",
       "    </tr>\n",
       "    <tr>\n",
       "      <th>4</th>\n",
       "      <td>8 832</td>\n",
       "      <td>8 832,00</td>\n",
       "    </tr>\n",
       "  </tbody>\n",
       "</table>\n",
       "</div>"
      ],
      "text/plain": [
       "      col1       col2\n",
       "0    93000  93 000,00\n",
       "1  9 652,5    9 652,5\n",
       "2    9 120   9 120,00\n",
       "3    9 100   9 100,00\n",
       "4    8 832   8 832,00"
      ]
     },
     "execution_count": 2,
     "metadata": {},
     "output_type": "execute_result"
    }
   ],
   "source": [
    "df = pd.read_excel(\"comparatif_raw_data.xlsx\")\n",
    "df.head(10)"
   ]
  },
  {
   "cell_type": "code",
   "execution_count": 3,
   "metadata": {},
   "outputs": [
    {
     "name": "stdout",
     "output_type": "stream",
     "text": [
      "         col1      col2\n",
      "count     107       107\n",
      "unique     93        93\n",
      "top     3 000  3 000,00\n",
      "freq        4         4\n",
      "------------------------------\n",
      "<class 'pandas.core.frame.DataFrame'>\n",
      "RangeIndex: 107 entries, 0 to 106\n",
      "Data columns (total 2 columns):\n",
      " #   Column  Non-Null Count  Dtype \n",
      "---  ------  --------------  ----- \n",
      " 0   col1    107 non-null    object\n",
      " 1   col2    107 non-null    object\n",
      "dtypes: object(2)\n",
      "memory usage: 1.8+ KB\n",
      "None\n"
     ]
    }
   ],
   "source": [
    "print(df.describe())\n",
    "print(\"-\"*30)\n",
    "print(df.info())"
   ]
  },
  {
   "cell_type": "code",
   "execution_count": 4,
   "metadata": {},
   "outputs": [],
   "source": [
    "# Fonction pour nettoyer et convertir les chaînes en float\n",
    "def clean_and_convert(value):\n",
    "    # Vérifiez si la valeur est une chaîne de caractères\n",
    "    if isinstance(value, str):\n",
    "        value = (\n",
    "            value.replace('\\u202f', '')  # Supprime les espaces insécables\n",
    "                 .replace(' €', '')  # Supprime le signe euro\n",
    "                 .replace(',', '.')  # Remplace la virgule par un point\n",
    "                 .replace(' ', '')  # Supprime les espaces restants\n",
    "        )\n",
    "    return float(value)"
   ]
  },
  {
   "cell_type": "code",
   "execution_count": 6,
   "metadata": {},
   "outputs": [
    {
     "name": "stdout",
     "output_type": "stream",
     "text": [
      "               col1          col2\n",
      "count    107.000000    107.000000\n",
      "mean    8944.111621   8944.111682\n",
      "std    14664.851691  14664.851711\n",
      "min       33.600000     33.600000\n",
      "25%      704.000000    704.000000\n",
      "50%     3000.000000   3000.000000\n",
      "75%     8414.100000   8414.100000\n",
      "max    93000.000000  93000.000000\n"
     ]
    }
   ],
   "source": [
    "# Appliquer la fonction à chaque colonne\n",
    "df['col1'] = df['col1'].apply(clean_and_convert)\n",
    "df['col2'] = df['col2'].apply(clean_and_convert)\n",
    "\n",
    "# Afficher les statistiques descriptives après conversion\n",
    "print(df.describe())"
   ]
  },
  {
   "cell_type": "code",
   "execution_count": 7,
   "metadata": {},
   "outputs": [
    {
     "data": {
      "image/png": "[encoded data removed]",
      "text/plain": [
       "<Figure size 1200x600 with 4 Axes>"
      ]
     },
     "metadata": {},
     "output_type": "display_data"
    }
   ],
   "source": [
    "# Plot les 2 colonnes\n",
    "\n",
    "# Fonds de couleur pour les graphiques\n",
    "plt.figure(figsize=(12, 6))\n",
    "\n",
    "# Afficher un histogramme des valeurs de 'E_MOIS' avec seaborn \n",
    "plt.subplot(2, 2, 1)\n",
    "sns.histplot(df['col1'], kde=True, bins=10)\n",
    "plt.xlabel('col1')\n",
    "plt.ylabel('Fréquence')\n",
    "plt.title('Répartition des valeurs de col1')\n",
    "# Afficher un histogramme des valeurs de 'DAD' avec seaborn \n",
    "plt.subplot(2, 2, 2)\n",
    "sns.histplot(df['col2'], kde=True, bins=10)\n",
    "plt.xlabel('col2')\n",
    "plt.ylabel('Fréquence')\n",
    "plt.title('Répartition des valeurs de col2')\n",
    "\n",
    "# Afficher un boxplot des valeurs de 'DAD_' avec seaborn\n",
    "plt.subplot(2, 2, 4)\n",
    "sns.boxplot(x=df['col2'])\n",
    "plt.xlabel('col2')\n",
    "plt.title('Répartition des valeurs de col2 (Boxplot)')\n",
    "# Afficher un boxplot des valeurs de 'E_MOIS' avec seaborn\n",
    "plt.subplot(2, 2, 3)\n",
    "sns.boxplot(x=df['col1'])\n",
    "plt.xlabel('col1')\n",
    "plt.title('Répartition des valeurs de col1 (Boxplot)')\n",
    "\n",
    "plt.tight_layout()\n",
    "plt.show()"
   ]
  },
  {
   "cell_type": "markdown",
   "metadata": {},
   "source": [
    "plt.subplot(3, 1, 1) signifie :\n",
    "\n",
    "* nrows = 3 : La grille a 3 lignes.\n",
    "* ncols = 1 : La grille a 1 colonne.\n",
    "* index = 1 : Le sous-graphique se trouve à la première position (première ligne, première colonne)."
   ]
  },
  {
   "cell_type": "code",
   "execution_count": 8,
   "metadata": {},
   "outputs": [],
   "source": [
    "# fonction de check des 2 colonnes :\n",
    "def is_equal(row):\n",
    "    if row['col1'] == row['col2']:\n",
    "        return True\n",
    "    else:\n",
    "        return False\n",
    "    \n",
    "\n",
    "df[\"check\"] = df.apply(is_equal, axis=1)"
   ]
  },
  {
   "cell_type": "code",
   "execution_count": 12,
   "metadata": {},
   "outputs": [
    {
     "name": "stdout",
     "output_type": "stream",
     "text": [
      "      col1     col2  check\n",
      "0  93000.0  93000.0   True\n",
      "1   9652.5   9652.5   True\n",
      "2   9120.0   9120.0   True\n",
      "3   9100.0   9100.0   True\n",
      "4   8832.0   8832.0   True\n",
      "check\n",
      "True     0.953271\n",
      "False    0.046729\n",
      "Name: proportion, dtype: float64\n"
     ]
    }
   ],
   "source": [
    "print(df.head())\n",
    "#print (df[\"check\"].value_counts())\n",
    "print(df[\"check\"].value_counts(normalize=True))"
   ]
  },
  {
   "cell_type": "code",
   "execution_count": null,
   "metadata": {},
   "outputs": [],
   "source": [
    "# réexport vers excel pour vérification\n",
    "df.to_excel(\"compare A and B cleaned.xlsx\", index=False)"
   ]
  }
 ],
 "metadata": {
  "kernelspec": {
   "display_name": ".venv",
   "language": "python",
   "name": "python3"
  },
  "language_info": {
   "codemirror_mode": {
    "name": "ipython",
    "version": 3
   },
   "file_extension": ".py",
   "mimetype": "text/x-python",
   "name": "python",
   "nbconvert_exporter": "python",
   "pygments_lexer": "ipython3",
   "version": "3.12.7"
  }
 },
 "nbformat": 4,
 "nbformat_minor": 2
}
